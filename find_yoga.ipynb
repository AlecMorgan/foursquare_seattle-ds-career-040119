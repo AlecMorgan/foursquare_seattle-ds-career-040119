{
 "cells": [
  {
   "cell_type": "code",
   "execution_count": 1,
   "metadata": {},
   "outputs": [],
   "source": [
    "import json\n",
    "import requests"
   ]
  },
  {
   "cell_type": "code",
   "execution_count": 130,
   "metadata": {},
   "outputs": [],
   "source": [
    "# Load secrets from credentials.json\n",
    "url = 'https://api.foursquare.com/v2/venues/explore'\n",
    "with open('.secrets/credentials.json') as f:\n",
    "    params = json.load(f)\n",
    "    \n",
    "params['v'] = '20180323' # version date of your code, for backwards compatibility\n",
    "params['ll'] = '47.6062,-122.3321', #Latitude, longitude\n",
    "params['query'] = 'spicy hot food',\n",
    "params['limit'] = 1000 # How many results do you want?\n",
    "params['radius'] = 100000\n",
    "params['intent'] = 'browse'"
   ]
  },
  {
   "cell_type": "code",
   "execution_count": 131,
   "metadata": {},
   "outputs": [],
   "source": [
    "response = requests.get(url=url, params=params)\n",
    "data = json.loads(response.text)"
   ]
  },
  {
   "cell_type": "code",
   "execution_count": 132,
   "metadata": {},
   "outputs": [
    {
     "data": {
      "text/plain": [
       "dict_keys(['suggestedFilters', 'headerLocation', 'headerFullLocation', 'headerLocationGranularity', 'query', 'totalResults', 'suggestedBounds', 'groups'])"
      ]
     },
     "execution_count": 132,
     "metadata": {},
     "output_type": "execute_result"
    }
   ],
   "source": [
    "data['response'].keys()"
   ]
  },
  {
   "cell_type": "code",
   "execution_count": 133,
   "metadata": {},
   "outputs": [],
   "source": [
    "venues = []\n",
    "venue_names = []\n",
    "for result in data['response']['groups'][0]['items']:\n",
    "    venues.append(result['venue'])\n",
    "    venue_names.append(result['venue']['name'])"
   ]
  },
  {
   "cell_type": "code",
   "execution_count": 134,
   "metadata": {},
   "outputs": [
    {
     "data": {
      "text/plain": [
       "['The Cajun Crawfish',\n",
       " 'Thai Destination',\n",
       " 'Chick-fil-A',\n",
       " 'Mezcaleria Oaxaca',\n",
       " 'Rachawadee Thai Cafe',\n",
       " 'Local 360',\n",
       " 'Curry Corner',\n",
       " 'Wild Orchid',\n",
       " 'The Brooklyn Seafood, Steak & Oyster House',\n",
       " 'Facing East',\n",
       " 'Bahn Thai',\n",
       " 'Nasai Teriyaki',\n",
       " 'Thai Garden',\n",
       " 'Wing Dome',\n",
       " 'Teriyaki Plus',\n",
       " 'Udupi Cafe and Chaat Corner']"
      ]
     },
     "execution_count": 134,
     "metadata": {},
     "output_type": "execute_result"
    }
   ],
   "source": [
    "venue_names"
   ]
  },
  {
   "cell_type": "code",
   "execution_count": 135,
   "metadata": {},
   "outputs": [],
   "source": [
    "import pandas as pd\n",
    "import pymongo"
   ]
  },
  {
   "cell_type": "code",
   "execution_count": 92,
   "metadata": {},
   "outputs": [
    {
     "data": {
      "text/plain": [
       "<pymongo.results.InsertManyResult at 0x10bd51508>"
      ]
     },
     "execution_count": 92,
     "metadata": {},
     "output_type": "execute_result"
    }
   ],
   "source": [
    "mc = pymongo.MongoClient()\n",
    "db = mc['foursquare']\n",
    "coll = db['yoga']\n",
    "\n",
    "coll.insert_many(venues)"
   ]
  },
  {
   "cell_type": "code",
   "execution_count": 94,
   "metadata": {},
   "outputs": [],
   "source": [
    "venues = list(coll.find())"
   ]
  },
  {
   "cell_type": "code",
   "execution_count": null,
   "metadata": {},
   "outputs": [],
   "source": []
  },
  {
   "cell_type": "code",
   "execution_count": null,
   "metadata": {},
   "outputs": [],
   "source": []
  },
  {
   "cell_type": "code",
   "execution_count": null,
   "metadata": {},
   "outputs": [],
   "source": [
    "cur = coll."
   ]
  }
 ],
 "metadata": {
  "kernelspec": {
   "display_name": "Python 3",
   "language": "python",
   "name": "python3"
  },
  "language_info": {
   "codemirror_mode": {
    "name": "ipython",
    "version": 3
   },
   "file_extension": ".py",
   "mimetype": "text/x-python",
   "name": "python",
   "nbconvert_exporter": "python",
   "pygments_lexer": "ipython3",
   "version": "3.7.1"
  }
 },
 "nbformat": 4,
 "nbformat_minor": 2
}
